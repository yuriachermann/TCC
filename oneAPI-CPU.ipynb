{
 "cells": [
  {
   "cell_type": "markdown",
   "metadata": {},
   "source": [
    "# Segmentation Notebook for Tool Segmentation\n"
   ]
  },
  {
   "cell_type": "code",
   "execution_count": 2,
   "metadata": {},
   "outputs": [
    {
     "name": "stderr",
     "output_type": "stream",
     "text": [
      "/home/operation/miniconda3/envs/td-intel/lib/python3.10/site-packages/torchvision/models/_utils.py:208: UserWarning: The parameter 'pretrained' is deprecated since 0.13 and may be removed in the future, please use 'weights' instead.\n",
      "  warnings.warn(\n",
      "/home/operation/miniconda3/envs/td-intel/lib/python3.10/site-packages/torchvision/models/_utils.py:223: UserWarning: Arguments other than a weight enum or `None` for 'weights' are deprecated since 0.13 and may be removed in the future. The current behavior is equivalent to passing `weights=ResNet50_Weights.IMAGENET1K_V1`. You can also use `weights=ResNet50_Weights.DEFAULT` to get the most up-to-date weights.\n",
      "  warnings.warn(msg)\n"
     ]
    }
   ],
   "source": [
    "import torch\n",
    "import torchvision.models as models\n",
    "\n",
    "model = models.resnet50(pretrained=True)\n",
    "model.eval()\n",
    "data = torch.rand(1, 3, 224, 224)\n",
    "\n",
    "import intel_extension_for_pytorch as ipex\n",
    "model = ipex.optimize(model)\n",
    "\n",
    "with torch.no_grad():\n",
    "  model(data)"
   ]
  },
  {
   "cell_type": "code",
   "execution_count": 3,
   "metadata": {},
   "outputs": [
    {
     "name": "stdout",
     "output_type": "stream",
     "text": [
      "Files already downloaded and verified\n"
     ]
    },
    {
     "ename": "",
     "evalue": "",
     "output_type": "error",
     "traceback": [
      "\u001b[1;31mCannot execute code, session has been disposed. Please try restarting the Kernel."
     ]
    },
    {
     "ename": "",
     "evalue": "",
     "output_type": "error",
     "traceback": [
      "\u001b[1;31mThe Kernel crashed while executing code in the the current cell or a previous cell. Please review the code in the cell(s) to identify a possible cause of the failure. Click <a href='https://aka.ms/vscodeJupyterKernelCrash'>here</a> for more info. View Jupyter <a href='command:jupyter.viewOutput'>log</a> for further details."
     ]
    }
   ],
   "source": [
    "import torch\n",
    "import torchvision\n",
    "import intel_extension_for_pytorch as ipex\n",
    "\n",
    "LR = 0.001\n",
    "DOWNLOAD = True\n",
    "DATA = 'datasets/cifar10/'\n",
    "\n",
    "transform = torchvision.transforms.Compose([\n",
    "  torchvision.transforms.Resize((224, 224)),\n",
    "  torchvision.transforms.ToTensor(),\n",
    "  torchvision.transforms.Normalize((0.5, 0.5, 0.5), (0.5, 0.5, 0.5))\n",
    "])\n",
    "train_dataset = torchvision.datasets.CIFAR10(\n",
    "  root=DATA,\n",
    "  train=True,\n",
    "  transform=transform,\n",
    "  download=DOWNLOAD,\n",
    ")\n",
    "train_loader = torch.utils.data.DataLoader(\n",
    "  dataset=train_dataset,\n",
    "  batch_size=128\n",
    ")\n",
    "\n",
    "model = torchvision.models.resnet50()\n",
    "criterion = torch.nn.CrossEntropyLoss()\n",
    "optimizer = torch.optim.SGD(model.parameters(), lr = LR, momentum=0.9)\n",
    "model.train()\n",
    "model, optimizer = ipex.optimize(model, optimizer=optimizer)\n",
    "\n",
    "for batch_idx, (data, target) in enumerate(train_loader):\n",
    "  optimizer.zero_grad()\n",
    "  output = model(data)\n",
    "  loss = criterion(output, target)\n",
    "  loss.backward()\n",
    "  optimizer.step()\n",
    "  print(batch_idx)\n",
    "torch.save({\n",
    "   'model_state_dict': model.state_dict(),\n",
    "   'optimizer_state_dict': optimizer.state_dict(),\n",
    "   }, 'checkpoint.pth')"
   ]
  },
  {
   "cell_type": "code",
   "execution_count": null,
   "metadata": {},
   "outputs": [
    {
     "name": "stdout",
     "output_type": "stream",
     "text": [
      "\u001b[31mERROR: Could not find a version that satisfies the requirement oneccl_bindings_for_pytorch (from versions: none)\u001b[0m\u001b[31m\n",
      "\u001b[0m\u001b[31mERROR: No matching distribution found for oneccl_bindings_for_pytorch\u001b[0m\u001b[31m\n",
      "\u001b[0mNote: you may need to restart the kernel to use updated packages.\n"
     ]
    }
   ],
   "source": []
  },
  {
   "cell_type": "code",
   "execution_count": 3,
   "metadata": {},
   "outputs": [
    {
     "ename": "ImportError",
     "evalue": "libccl.so.1: cannot open shared object file: No such file or directory",
     "output_type": "error",
     "traceback": [
      "\u001b[0;31m---------------------------------------------------------------------------\u001b[0m",
      "\u001b[0;31mImportError\u001b[0m                               Traceback (most recent call last)",
      "\u001b[1;32m/home/operation/Intel/TCC/oneAPI-CPU.ipynb Cell 5\u001b[0m line \u001b[0;36m5\n\u001b[1;32m      <a href='vscode-notebook-cell://ssh-remote%2Btd/home/operation/Intel/TCC/oneAPI-CPU.ipynb#W4sdnNjb2RlLXJlbW90ZQ%3D%3D?line=2'>3</a>\u001b[0m \u001b[39mimport\u001b[39;00m \u001b[39mtorch\u001b[39;00m\u001b[39m.\u001b[39;00m\u001b[39mdistributed\u001b[39;00m \u001b[39mas\u001b[39;00m \u001b[39mdist\u001b[39;00m\n\u001b[1;32m      <a href='vscode-notebook-cell://ssh-remote%2Btd/home/operation/Intel/TCC/oneAPI-CPU.ipynb#W4sdnNjb2RlLXJlbW90ZQ%3D%3D?line=3'>4</a>\u001b[0m \u001b[39mimport\u001b[39;00m \u001b[39mtorchvision\u001b[39;00m\n\u001b[0;32m----> <a href='vscode-notebook-cell://ssh-remote%2Btd/home/operation/Intel/TCC/oneAPI-CPU.ipynb#W4sdnNjb2RlLXJlbW90ZQ%3D%3D?line=4'>5</a>\u001b[0m \u001b[39mimport\u001b[39;00m \u001b[39moneccl_bindings_for_pytorch\u001b[39;00m \u001b[39mas\u001b[39;00m \u001b[39mtorch_ccl\u001b[39;00m\n\u001b[1;32m      <a href='vscode-notebook-cell://ssh-remote%2Btd/home/operation/Intel/TCC/oneAPI-CPU.ipynb#W4sdnNjb2RlLXJlbW90ZQ%3D%3D?line=5'>6</a>\u001b[0m \u001b[39mimport\u001b[39;00m \u001b[39mintel_extension_for_pytorch\u001b[39;00m \u001b[39mas\u001b[39;00m \u001b[39mipex\u001b[39;00m\n\u001b[1;32m      <a href='vscode-notebook-cell://ssh-remote%2Btd/home/operation/Intel/TCC/oneAPI-CPU.ipynb#W4sdnNjb2RlLXJlbW90ZQ%3D%3D?line=7'>8</a>\u001b[0m LR \u001b[39m=\u001b[39m \u001b[39m0.001\u001b[39m\n",
      "File \u001b[0;32m~/miniconda3/envs/td-intel/lib/python3.10/site-packages/oneccl_bindings_for_pytorch/__init__.py:26\u001b[0m\n\u001b[1;32m     22\u001b[0m     set_env_default(os\u001b[39m.\u001b[39menviron, \u001b[39m'\u001b[39m\u001b[39mFI_PROVIDER_PATH\u001b[39m\u001b[39m'\u001b[39m, FI_PROVIDER_PATH)\n\u001b[1;32m     25\u001b[0m \u001b[39mfrom\u001b[39;00m \u001b[39m.\u001b[39;00m\u001b[39mversion\u001b[39;00m \u001b[39mimport\u001b[39;00m __version__, git_version\n\u001b[0;32m---> 26\u001b[0m \u001b[39mfrom\u001b[39;00m \u001b[39m.\u001b[39;00m \u001b[39mimport\u001b[39;00m _C \u001b[39mas\u001b[39;00m ccl_lib\n\u001b[1;32m     28\u001b[0m \u001b[39mif\u001b[39;00m \u001b[39mhasattr\u001b[39m(torch, \u001b[39m'\u001b[39m\u001b[39mxpu\u001b[39m\u001b[39m'\u001b[39m):\n\u001b[1;32m     29\u001b[0m     \u001b[39mtry\u001b[39;00m:\n\u001b[1;32m     30\u001b[0m         \u001b[39m# load the CCL/XPU library\u001b[39;00m\n",
      "\u001b[0;31mImportError\u001b[0m: libccl.so.1: cannot open shared object file: No such file or directory"
     ]
    }
   ],
   "source": [
    "import os\n",
    "import torch\n",
    "import torch.distributed as dist\n",
    "import torchvision\n",
    "import oneccl_bindings_for_pytorch as torch_ccl\n",
    "import intel_extension_for_pytorch as ipex\n",
    "\n",
    "LR = 0.001\n",
    "DOWNLOAD = False\n",
    "DATA = 'datasets/cifar10/'\n",
    "\n",
    "transform = torchvision.transforms.Compose([\n",
    "    torchvision.transforms.Resize((224, 224)),\n",
    "    torchvision.transforms.ToTensor(),\n",
    "    torchvision.transforms.Normalize((0.5, 0.5, 0.5), (0.5, 0.5, 0.5))\n",
    "])\n",
    "train_dataset = torchvision.datasets.CIFAR10(\n",
    "        root=DATA,\n",
    "        train=True,\n",
    "        transform=transform,\n",
    "        download=DOWNLOAD,\n",
    ")\n",
    "train_loader = torch.utils.data.DataLoader(\n",
    "        dataset=train_dataset,\n",
    "        batch_size=128\n",
    ")\n",
    "\n",
    "os.environ['MASTER_ADDR'] = '127.0.0.1'\n",
    "os.environ['MASTER_PORT'] = '29500'\n",
    "os.environ['RANK'] = os.environ.get('PMI_RANK', 0)\n",
    "os.environ['WORLD_SIZE'] = os.environ.get('PMI_SIZE', 1)\n",
    "dist.init_process_group(\n",
    "backend='ccl',\n",
    "init_method='env://'\n",
    ")\n",
    "\n",
    "model = torchvision.models.resnet50()\n",
    "criterion = torch.nn.CrossEntropyLoss()\n",
    "optimizer = torch.optim.SGD(model.parameters(), lr = LR, momentum=0.9)\n",
    "model.train()\n",
    "model, optimizer = ipex.optimize(model, optimizer=optimizer)\n",
    "\n",
    "model = torch.nn.parallel.DistributedDataParallel(model)\n",
    "\n",
    "for batch_idx, (data, target) in enumerate(train_loader):\n",
    "    optimizer.zero_grad()\n",
    "    output = model(data)\n",
    "    loss = criterion(output, target)\n",
    "    loss.backward()\n",
    "    optimizer.step()\n",
    "    print('batch_id: {}'.format(batch_idx))\n",
    "torch.save({\n",
    "     'model_state_dict': model.state_dict(),\n",
    "     'optimizer_state_dict': optimizer.state_dict(),\n",
    "     }, 'checkpoint.pth')"
   ]
  }
 ],
 "metadata": {
  "kernelspec": {
   "display_name": "mlflow-ede0f17bb58ffa398fac1d7143e4bacfbf09eb40",
   "language": "python",
   "name": "python3"
  },
  "language_info": {
   "codemirror_mode": {
    "name": "ipython",
    "version": 3
   },
   "file_extension": ".py",
   "mimetype": "text/x-python",
   "name": "python",
   "nbconvert_exporter": "python",
   "pygments_lexer": "ipython3",
   "version": "3.10.12"
  },
  "orig_nbformat": 4
 },
 "nbformat": 4,
 "nbformat_minor": 2
}
